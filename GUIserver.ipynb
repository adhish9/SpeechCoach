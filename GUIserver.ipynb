{
 "cells": [
  {
   "cell_type": "code",
   "execution_count": 1,
   "metadata": {},
   "outputs": [],
   "source": [
    "import time\n",
    "import os\n",
    "\n",
    "import speech_recognition as sr\n",
    "import pandas as pd\n",
    "\n",
    "\n",
    "from flask import Flask, request, render_template, redirect, url_for, flash"
   ]
  },
  {
   "cell_type": "code",
   "execution_count": null,
   "metadata": {
    "scrolled": true
   },
   "outputs": [
    {
     "name": "stdout",
     "output_type": "stream",
     "text": [
      " * Serving Flask app \"__main__\" (lazy loading)\n",
      " * Environment: production\n",
      "   WARNING: Do not use the development server in a production environment.\n",
      "   Use a production WSGI server instead.\n",
      " * Debug mode: off\n"
     ]
    },
    {
     "name": "stderr",
     "output_type": "stream",
     "text": [
      " * Running on http://127.0.0.1:5000/ (Press CTRL+C to quit)\n",
      "127.0.0.1 - - [20/Aug/2019 08:35:31] \"GET / HTTP/1.1\" 200 -\n",
      "127.0.0.1 - - [20/Aug/2019 08:35:33] \"POST /save HTTP/1.1\" 200 -\n"
     ]
    },
    {
     "name": "stdout",
     "output_type": "stream",
     "text": [
      "ad\n",
      "Hello! ad,\n",
      "Click Record and read the following:\n",
      " Please call Stella. Ask her to bring these things with her from the store: Six spoons of \n",
      "fresh snow peas, five thick slabs of blue cheese, and maybe a snack for her brother Bob. \n",
      "We also need a small plastic snake and a big toy frog for the kids. \n",
      "She can scoop these things into three red bags,and we will go meet her Wednesday at the train station.\n",
      "Listening.....\n"
     ]
    },
    {
     "name": "stderr",
     "output_type": "stream",
     "text": [
      "127.0.0.1 - - [20/Aug/2019 08:35:40] \"POST /record HTTP/1.1\" 200 -\n"
     ]
    },
    {
     "name": "stdout",
     "output_type": "stream",
     "text": [
      "Could not understand audio, Retry\n"
     ]
    },
    {
     "name": "stderr",
     "output_type": "stream",
     "text": [
      "127.0.0.1 - - [20/Aug/2019 08:35:42] \"POST /score HTTP/1.1\" 200 -\n"
     ]
    },
    {
     "name": "stdout",
     "output_type": "stream",
     "text": [
      "[]\n",
      "                          0\n",
      "number_of_syllables       7\n",
      "number_of_pauses          3\n",
      "rate_of_speech            2\n",
      "articulation_rate         5\n",
      "speaking_duration       1.3\n",
      "original_duration       4.3\n",
      "balance                 0.3\n",
      "f0_mean              196.41\n",
      "f0_std               100.34\n",
      "f0_median             160.3\n",
      "f0_min                   70\n",
      "f0_max                  400\n",
      "f0_quantile25           114\n",
      "f0_quan75               284\n"
     ]
    }
   ],
   "source": [
    "name = ''\n",
    "filename = ''\n",
    "output = ''\n",
    "\n",
    "\n",
    "r = sr.Recognizer()\n",
    "m = sr.Microphone()\n",
    "\n",
    "#Adjust mic\n",
    "with m as source:\n",
    "    r.adjust_for_ambient_noise(source)\n",
    "    \n",
    "    \n",
    "#Flask \n",
    "app = Flask(__name__)\n",
    "\n",
    "\n",
    "@app.route(\"/save\", methods=['POST','GET'])\n",
    "def save():\n",
    "    \n",
    "    global name, output\n",
    "    name = request.form['name']\n",
    "    print(name)\n",
    "    #return name\n",
    "    if name == '':\n",
    "        output = 'Please enter name first!'\n",
    "        print('Please enter name first!')\n",
    "        #return redirect(url_for('save'))\n",
    "        #return render_template('index.html', output=output)\n",
    "    else:\n",
    "        output = 'Hello! ' +name+',<br/><br/> Click Record and read the following:<br/><br/>\"Please call Stella. Ask her to bring these things with her from the store:<br/>&nbsp Six spoons of fresh snow peas, five thick slabs of blue cheese,<br/>&nbsp and maybe a snack for her brother Bob. We also need a small plastic snake<br/>&nbsp and a big toy frog for the kids. She can scoop these things into three red bags,<br/>&nbsp and we will go meet her Wednesday at the train station.\"' \n",
    "        \n",
    "        print('Hello! ' +name+',')\n",
    "        print(\"Click Record and read the following:\\n Please call Stella. \"\n",
    "              \"Ask her to bring these things with her from the store: \"\n",
    "              \"Six spoons of \\nfresh snow peas, five thick slabs of blue cheese, \"\n",
    "              \"and maybe a snack for her brother Bob. \\n\"\n",
    "              \"We also need a small plastic snake and a big toy frog for the kids. \\n\" \n",
    "              \"She can scoop these things into three red bags,\" \n",
    "              \"and we will go meet her Wednesday at the train station.\")\n",
    "        \n",
    "        #return render_template('index.html', output=output, name=name)\n",
    "    return render_template('index.html', output=output, name=name)\n",
    "\n",
    "@app.route(\"/record\", methods=['POST'])\n",
    "def record():\n",
    "    global output\n",
    "    if name == '':\n",
    "        print('Save name first!') \n",
    "        output='Save name first!'\n",
    "    else:\n",
    "        global filename\n",
    "        filename = str(time.time())\n",
    "        print(\"Listening.....\")\n",
    "        #output=output+'<br/><br/>Listening.....'\n",
    "        #flash(\"Listening.....\")\n",
    "    \n",
    "        with m as source:\n",
    "            audio = r.listen(source)\n",
    "            with open(\"record/\"+name+filename+\"_microphone.wav\", \"wb\") as f:\n",
    "                f.write(audio.get_wav_data())\n",
    "                output=output+\"<br/><h6>Audio file saved as:  \"+\"record/\"+name+filename+\"_microphone.wav</h6>\"\n",
    "\n",
    "        try:\n",
    "            # for testing purposes, we're just using the default API key\n",
    "            # to use another API key, use `r.recognize_google(audio, key=\"GOOGLE_SPEECH_RECOGNITION_API_KEY\")`\n",
    "            # instead of `r.recognize_google(audio)`\n",
    "            txt = r.recognize_google(audio, None, \"en-IN\")\n",
    "            print(\"You said:\\n\"+txt)\n",
    "            output=output+\"<br/><br/>You said:\\n\"+txt\n",
    "            file = open(\"record/\"+name+filename+\"_googlesr.txt\",\"w\") \n",
    "            file.write(txt) \n",
    "        except sr.UnknownValueError:\n",
    "            print(\"Could not understand audio, Retry\")\n",
    "            output=output+\"<br/><br/>Could not understand audio, Retry\"\n",
    "        except sr.RequestError as e:\n",
    "            print(\"Could not request results from Google Speech Recognition service; {0}\".format(e))\n",
    "            output=output+\"<br/><br/>Could not request results from Google Speech Recognition service; {0}\".format(e)\n",
    "            \n",
    "#         with open(\"record/\"+name+filename+\"_microphone.wav\", \"wb\") as f:\n",
    "#             f.write(audio.get_wav_data())\n",
    "#             output=output+\"<br/><h6>Audio file saved as:  \"+\"record/\"+name+filename+\"_microphone.wav</h6>\"\n",
    "\n",
    "        #return render_template('recording.html', output=output, name=name)\n",
    "\n",
    "    #print(1111)\n",
    "    return render_template('index.html', output=output, name=name)\n",
    "        #listen()\n",
    "    \n",
    "    #return redirect(url_for(listen()))\n",
    "    #return render_template('index.html', output=output, name=name), listen()\n",
    "    #print(11)\n",
    "    \n",
    "@app.route(\"/retry\", methods=[\"POST\"])\n",
    "def retry():\n",
    "    global output\n",
    "    if name == '':\n",
    "        output = 'Save name first!'\n",
    "    else:\n",
    "        output = 'Hello! ' +name+',<br/><br/> Click Record and read the following:<br/><br/>\"Please call Stella. Ask her to bring these things with her from the store:<br/>&nbsp Six spoons of fresh snow peas, five thick slabs of blue cheese,<br/>&nbsp and maybe a snack for her brother Bob. We also need a small plastic snake<br/>&nbsp and a big toy frog for the kids. She can scoop these things into three red bags,<br/>&nbsp and we will go meet her Wednesday at the train station.\"' \n",
    "\n",
    "    #print(\"a\")\n",
    "    #return redirect(url_for('save'))\n",
    "    #savei()\n",
    "    return render_template('index.html', output=output, name=name)\n",
    "\n",
    "@app.route(\"/score\", methods=[\"POST\"])\n",
    "def score():\n",
    "    global output\n",
    "    mysp=__import__(\"my-voice-analysis\")\n",
    "    \n",
    "    score_card=pd.DataFrame()\n",
    "    #import myspsolution as mysp\n",
    "    if os.path.exists(\"record/\"+name+filename+\"_microphone.wav\") == True:\n",
    "        if '<h4>---------------Score----------------</h4>' not in output:\n",
    "            output=output+\"<br/><h4>---------------Score----------------</h4>\"\n",
    "        p=name+filename+\"_microphone\" # Audio File title  (.wav)\n",
    "        c=r\"/home/madtitan/Documents/Adhish/Speech/record/\" # Path to the Audio_File directory (Python 3.7)\n",
    "        #output=output+(mysp.mysptotal(p,c))\n",
    "        #print(mysp.mysptotal(p,c))\n",
    "        score_card=mysp.mysptotal(p,c).to_html()      \n",
    "    else:\n",
    "        if \"Please record yourself first.\" in output:\n",
    "            output=output\n",
    "        else:\n",
    "            output=output+\"<br/><br/>Please record yourself first.\"\n",
    "    \n",
    "    return render_template('index.html', output=output, name=name, score_card=score_card)\n",
    "\n",
    "    \n",
    "@app.route('/')\n",
    "def static_page():\n",
    "    return render_template('index.html')\n",
    "\n",
    "if __name__ == \"__main__\":\n",
    "    app.run()"
   ]
  },
  {
   "cell_type": "code",
   "execution_count": null,
   "metadata": {},
   "outputs": [],
   "source": []
  },
  {
   "cell_type": "code",
   "execution_count": null,
   "metadata": {},
   "outputs": [],
   "source": []
  },
  {
   "cell_type": "code",
   "execution_count": null,
   "metadata": {},
   "outputs": [],
   "source": []
  },
  {
   "cell_type": "code",
   "execution_count": null,
   "metadata": {},
   "outputs": [],
   "source": []
  },
  {
   "cell_type": "code",
   "execution_count": null,
   "metadata": {},
   "outputs": [],
   "source": []
  },
  {
   "cell_type": "code",
   "execution_count": null,
   "metadata": {},
   "outputs": [],
   "source": []
  }
 ],
 "metadata": {
  "kernelspec": {
   "display_name": "Python 3",
   "language": "python",
   "name": "python3"
  },
  "language_info": {
   "codemirror_mode": {
    "name": "ipython",
    "version": 3
   },
   "file_extension": ".py",
   "mimetype": "text/x-python",
   "name": "python",
   "nbconvert_exporter": "python",
   "pygments_lexer": "ipython3",
   "version": "3.7.3"
  }
 },
 "nbformat": 4,
 "nbformat_minor": 2
}
