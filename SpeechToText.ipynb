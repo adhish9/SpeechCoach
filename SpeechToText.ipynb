{
 "cells": [
  {
   "cell_type": "code",
   "execution_count": 2,
   "metadata": {},
   "outputs": [],
   "source": [
    "import speech_recognition as sr\n",
    "import glob"
   ]
  },
  {
   "cell_type": "code",
   "execution_count": 3,
   "metadata": {},
   "outputs": [
    {
     "data": {
      "text/plain": [
       "'3.8.1'"
      ]
     },
     "execution_count": 3,
     "metadata": {},
     "output_type": "execute_result"
    }
   ],
   "source": [
    "r = sr.Recognizer()\n",
    "m = sr.Microphone()\n",
    "files = glob.glob(\"/home/madtitan/Documents/Adhish/Speech/audio/bengali/bengali1.wav\")\n",
    "\n",
    "sr.__version__"
   ]
  },
  {
   "cell_type": "markdown",
   "metadata": {},
   "source": [
    "Text: Please call Stella.  Ask her to bring these things with her from the store:  Six spoons of fresh snow peas, five thick slabs of blue cheese, and maybe a snack for her brother Bob.  We also need a small plastic snake and a big toy frog for the kids.  She can scoop these things into three red bags, and we will go meet her Wednesday at the train station."
   ]
  },
  {
   "cell_type": "code",
   "execution_count": 9,
   "metadata": {},
   "outputs": [
    {
     "name": "stdout",
     "output_type": "stream",
     "text": [
      "Google Speech Recognition:\n",
      "please call Tailor ask her to bring this things with her from the store six schools of fresh snow Pitch 5 thick layer of blue cheese and maybe a snake for her brother Bob we also need a small plastic snake and a big toy frock for the kids chicken spoke these things into their rate bags and we will go meet her Wednesday at the rain station\n",
      "\n",
      "Google Speech Recognition (adjust for ambient noise):\n",
      "please call Tailor ask sir to bring these things with her from the store six schools of fresh snow peach 5 thick layer of blue cheese and maybe a snake for her brother Bob who also need a small plastic snake and a big toy frock for the kids chicken spoke these things into their rate bags and we will go meet her Wednesday at the rain station\n",
      "\n"
     ]
    }
   ],
   "source": [
    "#Using audio files\n",
    "\n",
    "for file in files:\n",
    "    file = sr.AudioFile(file)\n",
    "    with file as source:\n",
    "        audio = r.record(source)\n",
    "    print(\"Google Speech Recognition:\\n\"+r.recognize_google(audio)+\"\\n\")#, show_all=True))\n",
    "    #print(r.recognize_sphinx(audio))\n",
    "    with file as source:\n",
    "        r.adjust_for_ambient_noise(source)\n",
    "        audio = r.record(source)\n",
    "    print(\"Google Speech Recognition (adjust for ambient noise):\\n\"+r.recognize_google(audio)+\"\\n\")#, show_all=True))\n"
   ]
  },
  {
   "cell_type": "code",
   "execution_count": 10,
   "metadata": {},
   "outputs": [
    {
     "name": "stdout",
     "output_type": "stream",
     "text": [
      "Say something!\n",
      "Google Speech Recognition thinks you said hello hello hello\n"
     ]
    }
   ],
   "source": [
    "#Using mic \n",
    "\n",
    "with m as source:\n",
    "    print(\"Say something!\")\n",
    "    audio = r.listen(source)\n",
    "\n",
    "try:\n",
    "    # for testing purposes, we're just using the default API key\n",
    "    # to use another API key, use `r.recognize_google(audio, key=\"GOOGLE_SPEECH_RECOGNITION_API_KEY\")`\n",
    "    # instead of `r.recognize_google(audio)`\n",
    "    print(\"Google Speech Recognition thinks you said \" + r.recognize_google(audio))\n",
    "except sr.UnknownValueError:\n",
    "    print(\"Google Speech Recognition could not understand audio\")\n",
    "except sr.RequestError as e:\n",
    "    print(\"Could not request results from Google Speech Recognition service; {0}\".format(e))\n",
    "\n",
    "with open(\"microphone-results.wav\", \"wb\") as f:\n",
    "    f.write(audio.get_wav_data())"
   ]
  },
  {
   "cell_type": "code",
   "execution_count": null,
   "metadata": {},
   "outputs": [],
   "source": []
  },
  {
   "cell_type": "code",
   "execution_count": null,
   "metadata": {},
   "outputs": [],
   "source": []
  },
  {
   "cell_type": "code",
   "execution_count": null,
   "metadata": {},
   "outputs": [],
   "source": []
  },
  {
   "cell_type": "markdown",
   "metadata": {},
   "source": [
    "Trial solution for filler words using praat "
   ]
  },
  {
   "cell_type": "code",
   "execution_count": 1,
   "metadata": {},
   "outputs": [
    {
     "name": "stdout",
     "output_type": "stream",
     "text": [
      "[]\n",
      "                           0\n",
      "number_ of_syllables      80\n",
      "number_of_pauses          13\n",
      "rate_of_speech             3\n",
      "articulation_rate          5\n",
      "speaking_duration       16.2\n",
      "original_duration       26.3\n",
      "balance                  0.6\n",
      "f0_mean               116.74\n",
      "f0_std                 29.37\n",
      "f0_median              113.3\n",
      "f0_min                    81\n",
      "f0_max                   397\n",
      "f0_quantile25            107\n",
      "f0_quan75                121\n"
     ]
    }
   ],
   "source": [
    "#import myspsolution as mysp\n",
    "mysp=__import__(\"my-voice-analysis\")\n",
    "p=\"hindi1\" # Audio File title\n",
    "c=r\"/home/madtitan/Documents/Adhish/Speech/audio/hindi\" # Path to the Audio_File directory (Python 3.7)\n",
    "#mysp.myspgend(p,c)\n",
    "mysp.mysptotal(p,c)"
   ]
  },
  {
   "cell_type": "code",
   "execution_count": null,
   "metadata": {},
   "outputs": [],
   "source": []
  },
  {
   "cell_type": "code",
   "execution_count": null,
   "metadata": {},
   "outputs": [],
   "source": []
  }
 ],
 "metadata": {
  "kernelspec": {
   "display_name": "Python 3",
   "language": "python",
   "name": "python3"
  },
  "language_info": {
   "codemirror_mode": {
    "name": "ipython",
    "version": 3
   },
   "file_extension": ".py",
   "mimetype": "text/x-python",
   "name": "python",
   "nbconvert_exporter": "python",
   "pygments_lexer": "ipython3",
   "version": "3.7.3"
  }
 },
 "nbformat": 4,
 "nbformat_minor": 2
}
