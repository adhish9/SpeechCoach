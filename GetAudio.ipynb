{
 "cells": [
  {
   "cell_type": "code",
   "execution_count": 1,
   "metadata": {},
   "outputs": [],
   "source": [
    "import glob\n",
    "import os\n",
    "import subprocess"
   ]
  },
  {
   "cell_type": "markdown",
   "metadata": {},
   "source": [
    "\n",
    "Get audio files from (http://accent.gmu.edu/)"
   ]
  },
  {
   "cell_type": "code",
   "execution_count": 5,
   "metadata": {},
   "outputs": [],
   "source": [
    "lang = 'bengali, gujarati, hindi, kannada, malayalam, marathi, oriya, pahari, punjabi, tamil, telugu, urdu'\n",
    "for lang in lang.split(', '):\n",
    "    #print(lang)\n",
    "    i=0\n",
    "    while(True):\n",
    "        i=i+1\n",
    "        url = str(\"http://accent.gmu.edu/soundtracks/\"+str(lang)+str(i)+\".mp3\")\n",
    "        path = str(\"/home/madtitan/Documents/Adhish/Speech/audio/\"+str(lang))\n",
    "        file = str(\"/home/madtitan/Documents/Adhish/Speech/audio/\"+str(lang)+\"/\"+str(lang)+str(i)+\".mp3\") \n",
    "        #print(url)\n",
    "        \n",
    "        #Check for 404\n",
    "        #call = str(\"wget -S --spider $1  2>&1 | grep 'HTTP/1.1 200 OK'\")\n",
    "        #call = str(\"curl -o /dev/null --silent --head --write-out '%{http_code}\\n' \"+url)\n",
    "        #call = str(\"curl -s --head \"+url+\" | head -n 1\")    #Use this \n",
    "        #out = subprocess.Popen(call.split(), \n",
    "        #   stdout=subprocess.PIPE, \n",
    "        #   stderr=subprocess.STDOUT)\n",
    "        #stdout,stderr = out.communicate()\n",
    "        #print((stdout))\n",
    "        #if \"HTTP/1.1 404\" in str(stdout):\n",
    "        #    print(curl)\n",
    "        #    break\n",
    "        \n",
    "        \n",
    "        if(os.path.exists(file) or os.path.exists(file.replace(\".mp3\",\".wav\"))==True):\n",
    "            #print(os.path.exists(file), os.path.exists(file.replace(\".mp3\",\".wav\")))\n",
    "            continue\n",
    "        subprocess.call(\"wget -P \"+path+\" \"+url, shell=True)\n",
    "        if(os.path.exists(file)==False):\n",
    "            break"
   ]
  },
  {
   "cell_type": "markdown",
   "metadata": {},
   "source": [
    "Convert audio from .mp3 to .wav"
   ]
  },
  {
   "cell_type": "code",
   "execution_count": 6,
   "metadata": {},
   "outputs": [],
   "source": [
    "for file in glob.glob(\"/home/madtitan/Documents/Adhish/Speech/audio/*/*.mp3\"):\n",
    "    #print(file)\n",
    "    subprocess.call(\"ffmpeg -i \"+file+\" -acodec pcm_u8 -ar 44100 \"+file.replace(\".mp3\",\".wav\"), shell=True)\n",
    "    #Get rid of .mp3 files\n",
    "    subprocess.call(\"rm \"+file, shell=True)\n"
   ]
  },
  {
   "cell_type": "code",
   "execution_count": null,
   "metadata": {},
   "outputs": [],
   "source": []
  }
 ],
 "metadata": {
  "kernelspec": {
   "display_name": "Python 3",
   "language": "python",
   "name": "python3"
  },
  "language_info": {
   "codemirror_mode": {
    "name": "ipython",
    "version": 3
   },
   "file_extension": ".py",
   "mimetype": "text/x-python",
   "name": "python",
   "nbconvert_exporter": "python",
   "pygments_lexer": "ipython3",
   "version": "3.7.3"
  }
 },
 "nbformat": 4,
 "nbformat_minor": 2
}
